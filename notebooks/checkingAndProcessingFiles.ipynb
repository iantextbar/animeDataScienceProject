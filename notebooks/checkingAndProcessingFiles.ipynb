{
 "cells": [
  {
   "cell_type": "markdown",
   "id": "958d78d8",
   "metadata": {},
   "source": [
    "# Checking Collected Data "
   ]
  },
  {
   "cell_type": "code",
   "execution_count": 1,
   "id": "444d6c5f",
   "metadata": {},
   "outputs": [],
   "source": [
    "import os\n",
    "import pickle\n",
    "import re\n",
    "import sys\n",
    "sys.path.append('../')\n",
    "\n",
    "import pandas as pd\n",
    "import numpy as np\n",
    "\n",
    "from src.dataExtraction.dataPreprocessing import AnimePreprocessor"
   ]
  },
  {
   "cell_type": "markdown",
   "id": "f2744bdf",
   "metadata": {},
   "source": [
    "## Load and Preprocess Data"
   ]
  },
  {
   "cell_type": "code",
   "execution_count": 2,
   "id": "1e41f68d",
   "metadata": {},
   "outputs": [],
   "source": [
    "PATH = '../data/raw/'"
   ]
  },
  {
   "cell_type": "code",
   "execution_count": 3,
   "id": "426de699",
   "metadata": {},
   "outputs": [],
   "source": [
    "preprocessor = AnimePreprocessor(PATH)\n",
    "anime_df = preprocessor.aggregate()"
   ]
  },
  {
   "cell_type": "code",
   "execution_count": 4,
   "id": "5c246590",
   "metadata": {},
   "outputs": [
    {
     "name": "stdout",
     "output_type": "stream",
     "text": [
      "We have collected 2602 files\n"
     ]
    }
   ],
   "source": [
    "print('We have collected', len(anime_df), 'files')"
   ]
  },
  {
   "cell_type": "code",
   "execution_count": 5,
   "id": "46f7cf87",
   "metadata": {},
   "outputs": [
    {
     "name": "stdout",
     "output_type": "stream",
     "text": [
      "<class 'pandas.core.frame.DataFrame'>\n",
      "RangeIndex: 2602 entries, 0 to 2601\n",
      "Data columns (total 34 columns):\n",
      " #   Column         Non-Null Count  Dtype \n",
      "---  ------         --------------  ----- \n",
      " 0   title          2602 non-null   object\n",
      " 1   title_english  2602 non-null   object\n",
      " 2   synopsis       2602 non-null   object\n",
      " 3   synonyms       2602 non-null   object\n",
      " 4   japanese       2602 non-null   object\n",
      " 5   english        2602 non-null   object\n",
      " 6   type           2602 non-null   object\n",
      " 7   episodes       2602 non-null   object\n",
      " 8   status         2602 non-null   object\n",
      " 9   aired          2602 non-null   object\n",
      " 10  premiered      2602 non-null   object\n",
      " 11  broadcast      2602 non-null   object\n",
      " 12  producers      2602 non-null   object\n",
      " 13  licensors      2602 non-null   object\n",
      " 14  studios        2602 non-null   object\n",
      " 15  source         2602 non-null   object\n",
      " 16  genres         2602 non-null   object\n",
      " 17  themes         2602 non-null   object\n",
      " 18  demographic    2602 non-null   object\n",
      " 19  duration       2602 non-null   object\n",
      " 20  rating         2602 non-null   object\n",
      " 21  score          2602 non-null   object\n",
      " 22  score_count    2602 non-null   object\n",
      " 23  ranked         2602 non-null   object\n",
      " 24  popularity     2602 non-null   object\n",
      " 25  members        2602 non-null   object\n",
      " 26  favorites      2602 non-null   object\n",
      " 27  image          2602 non-null   object\n",
      " 28  theme          2602 non-null   object\n",
      " 29  spanish        2602 non-null   object\n",
      " 30  genre          2602 non-null   object\n",
      " 31  german         2602 non-null   object\n",
      " 32  demographics   2602 non-null   object\n",
      " 33  french         2602 non-null   object\n",
      "dtypes: object(34)\n",
      "memory usage: 691.3+ KB\n"
     ]
    }
   ],
   "source": [
    "anime_df.info()"
   ]
  },
  {
   "cell_type": "code",
   "execution_count": 6,
   "id": "95fd84b3",
   "metadata": {},
   "outputs": [],
   "source": [
    "anime_df_cleaned = preprocessor.clean(anime_df)"
   ]
  },
  {
   "cell_type": "code",
   "execution_count": 7,
   "id": "ac9ff9b3",
   "metadata": {},
   "outputs": [],
   "source": [
    "anime_df_final = preprocessor.transform(anime_df_cleaned)"
   ]
  },
  {
   "cell_type": "code",
   "execution_count": 10,
   "id": "f1cc7a5d",
   "metadata": {},
   "outputs": [],
   "source": [
    "os.makedirs('../data/final_data', exist_ok=True)\n",
    "anime_df_final.to_csv('../data/final_data/anime_df.csv')"
   ]
  },
  {
   "cell_type": "code",
   "execution_count": null,
   "id": "de63d894",
   "metadata": {},
   "outputs": [],
   "source": []
  }
 ],
 "metadata": {
  "kernelspec": {
   "display_name": "base",
   "language": "python",
   "name": "python3"
  },
  "language_info": {
   "codemirror_mode": {
    "name": "ipython",
    "version": 3
   },
   "file_extension": ".py",
   "mimetype": "text/x-python",
   "name": "python",
   "nbconvert_exporter": "python",
   "pygments_lexer": "ipython3",
   "version": "3.12.2"
  }
 },
 "nbformat": 4,
 "nbformat_minor": 5
}
